{
 "cells": [
  {
   "cell_type": "code",
   "execution_count": 88,
   "metadata": {},
   "outputs": [],
   "source": [
    "import dimacs\n",
    "\n",
    "fileName = \"graphs/clique20\"\n",
    "def loadGraph(fileName):\n",
    "    fileContent = dimacs.loadWeightedGraph(fileName)\n",
    "    graph = [[] for x in range(fileContent[0])]\n",
    "    for x in fileContent[1]:\n",
    "        graph[x[0]-1].append((x[1]-1,x[2]))\n",
    "        graph[x[1]-1].append((x[0]-1,x[2]))\n",
    "    return graph\n",
    "\n",
    "def listOfEdges(fileName):\n",
    "    fileContent = dimacs.loadWeightedGraph(fileName)\n",
    "    graph = []\n",
    "    for x in fileContent[1]:\n",
    "        graph.append((x[0]-1,x[1]-1,x[2]))\n",
    "\n",
    "    return fileContent[0],graph\n",
    "\n"
   ]
  },
  {
   "cell_type": "code",
   "execution_count": 89,
   "metadata": {},
   "outputs": [],
   "source": [
    "def find(parent,v):\n",
    "    if(parent[v] == -1): return v\n",
    "    return find(parent,parent[v])\n",
    "    \n",
    "def union(x,y,parent):\n",
    "    xset = find(parent, x);  \n",
    "    yset = find(parent, y);  \n",
    "    if(xset != yset): parent[xset] = yset;  \n"
   ]
  },
  {
   "cell_type": "code",
   "execution_count": 92,
   "metadata": {},
   "outputs": [],
   "source": [
    "def checkFattestPath(fileName):\n",
    "    vertices,graph = listOfEdges(fileName)\n",
    "    ufTable = [-1 for x in range(len(graph))]\n",
    "    graph = sorted(graph, key = lambda x : (-x[2]))\n",
    "    maxValue = -1\n",
    "    for x in graph:\n",
    "        union(x[0],x[1],ufTable)\n",
    "        maxValue = x[2]\n",
    "        if(find(ufTable,0) == find(ufTable,vertices-1)):\n",
    "            break\n",
    "    return maxValue"
   ]
  },
  {
   "cell_type": "code",
   "execution_count": 93,
   "metadata": {},
   "outputs": [
    {
     "data": {
      "text/plain": [
       "89"
      ]
     },
     "execution_count": 93,
     "metadata": {},
     "output_type": "execute_result"
    }
   ],
   "source": [
    "checkFattestPath(fileName)"
   ]
  },
  {
   "cell_type": "code",
   "execution_count": null,
   "metadata": {},
   "outputs": [],
   "source": []
  }
 ],
 "metadata": {
  "kernelspec": {
   "display_name": "Python 3",
   "language": "python",
   "name": "python3"
  },
  "language_info": {
   "codemirror_mode": {
    "name": "ipython",
    "version": 3
   },
   "file_extension": ".py",
   "mimetype": "text/x-python",
   "name": "python",
   "nbconvert_exporter": "python",
   "pygments_lexer": "ipython3",
   "version": "3.7.3"
  }
 },
 "nbformat": 4,
 "nbformat_minor": 2
}
