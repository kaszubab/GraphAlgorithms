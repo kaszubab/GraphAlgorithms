{
 "cells": [
  {
   "cell_type": "code",
   "execution_count": 21,
   "metadata": {},
   "outputs": [],
   "source": [
    "import dimacs\n",
    "\n",
    "\n",
    "fileName = \"graphs/pp1000\"\n",
    "def loadGraph(fileName):\n",
    "    fileContent = dimacs.loadWeightedGraph(fileName)\n",
    "    graph = [[] for x in range(fileContent[0])]\n",
    "    for x in fileContent[1]:\n",
    "        graph[x[0]-1].append((x[1]-1,x[2]))\n",
    "        graph[x[1]-1].append((x[0]-1,x[2]))\n",
    "    return graph"
   ]
  },
  {
   "cell_type": "code",
   "execution_count": 22,
   "metadata": {},
   "outputs": [],
   "source": [
    "import heapq\n",
    "\n",
    "def modifiedDijkstra(graph,startVertex):\n",
    "    visited = [False for x in range(len(graph))]\n",
    "    distance = [float(\"inf\") for x in range(len(graph))]\n",
    "    parent = [-1 for x in range(len(graph))]\n",
    "    \n",
    "    pq = []\n",
    "    # i push (0,0) that x is minus distance and y is vertex index\n",
    "    heapq.heappush(pq,(-distance[startVertex],0))\n",
    "    \n",
    "    while(1):\n",
    "        try:\n",
    "            vertex = heapq.heappop(pq)\n",
    "        except:\n",
    "            break\n",
    "        if not visited[vertex[1]]:\n",
    "            distance[vertex[1]] = -vertex[0]\n",
    "            visited[vertex[1]] = True\n",
    "            for x in graph [vertex[1]] :\n",
    "                if not visited[x[0]]:\n",
    "                    heapq.heappush(pq, (-min(distance[vertex[1]],x[1]), x[0]))\n",
    "    return distance"
   ]
  },
  {
   "cell_type": "code",
   "execution_count": 23,
   "metadata": {},
   "outputs": [],
   "source": [
    "def FattestPath(fileName):\n",
    "    graph = loadGraph(fileName)\n",
    "    dist = modifiedDijkstra(graph,0)\n",
    "    return dist[len(graph)-1]"
   ]
  },
  {
   "cell_type": "code",
   "execution_count": 24,
   "metadata": {},
   "outputs": [
    {
     "data": {
      "text/plain": [
       "960"
      ]
     },
     "execution_count": 24,
     "metadata": {},
     "output_type": "execute_result"
    }
   ],
   "source": [
    "FattestPath(fileName)"
   ]
  },
  {
   "cell_type": "code",
   "execution_count": null,
   "metadata": {},
   "outputs": [],
   "source": []
  }
 ],
 "metadata": {
  "kernelspec": {
   "display_name": "Python 3",
   "language": "python",
   "name": "python3"
  },
  "language_info": {
   "codemirror_mode": {
    "name": "ipython",
    "version": 3
   },
   "file_extension": ".py",
   "mimetype": "text/x-python",
   "name": "python",
   "nbconvert_exporter": "python",
   "pygments_lexer": "ipython3",
   "version": "3.7.3"
  }
 },
 "nbformat": 4,
 "nbformat_minor": 2
}
