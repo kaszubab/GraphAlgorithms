{
 "cells": [
  {
   "cell_type": "code",
   "execution_count": 9,
   "metadata": {},
   "outputs": [],
   "source": [
    "import dimacs\n",
    "\n",
    "fileName = \"graphs/clique20\"\n",
    "def loadGraph(fileName):\n",
    "    fileContent = dimacs.loadWeightedGraph(fileName)\n",
    "    graph = [[] for x in range(fileContent[0])]\n",
    "    maxWeight = -1\n",
    "    weights = []\n",
    "    for x in fileContent[1]:\n",
    "        if (x[2] not in weights): weights.append(x[2])\n",
    "        graph[x[0]-1].append((x[1]-1,x[2]))\n",
    "        graph[x[1]-1].append((x[0]-1,x[2]))\n",
    "    return weights,graph"
   ]
  },
  {
   "cell_type": "code",
   "execution_count": 46,
   "metadata": {},
   "outputs": [],
   "source": [
    "def bfs(graph,s,t,minWeight):\n",
    "    visited = [False for x in range(len(graph))]\n",
    "    queue = []\n",
    "    queue.append(s)\n",
    "    while (queue):\n",
    "        vertex = queue.pop(0)\n",
    "        for x in graph[vertex]:\n",
    "            if not visited[x[0]] and x[1] >= minWeight:\n",
    "                queue.append(x[0])\n",
    "                visited[x[0]]=True\n",
    "    return visited[t]\n",
    "\n",
    "def dfs(graph,s,t,minWeight):\n",
    "    visited = [False for x in range(len(graph))]\n",
    "    stack = []\n",
    "    stack.append(s)\n",
    "    while(stack):\n",
    "        vertex = stack.pop()\n",
    "        for x in graph[vertex]:\n",
    "            if not (visited[x[0]]) and x[1] >= minWeight:\n",
    "                stack.append(x[0])\n",
    "                visited[x[0]]=True\n",
    "    return (visited[t])"
   ]
  },
  {
   "cell_type": "code",
   "execution_count": 51,
   "metadata": {},
   "outputs": [],
   "source": [
    "import math\n",
    "\n",
    "def FattestPath(fileName):\n",
    "    values,graph =  loadGraph(fileName)\n",
    "    values.sort()\n",
    "    i = 0\n",
    "    j = len(values)\n",
    "    while i != j-1:\n",
    "        curValue = ((i+j)//2)\n",
    "        if bfs(graph,0,len(graph)-1,values[curValue]):\n",
    "            i = curValue\n",
    "        else:\n",
    "            j = curValue\n",
    "    if i > 1 and i <= len(values): return values[i]\n",
    "    return -1"
   ]
  },
  {
   "cell_type": "code",
   "execution_count": 52,
   "metadata": {},
   "outputs": [
    {
     "data": {
      "text/plain": [
       "89"
      ]
     },
     "execution_count": 52,
     "metadata": {},
     "output_type": "execute_result"
    }
   ],
   "source": [
    "fileName = \"graphs/clique20\"\n",
    "FattestPath(fileName)"
   ]
  },
  {
   "cell_type": "code",
   "execution_count": null,
   "metadata": {},
   "outputs": [],
   "source": []
  }
 ],
 "metadata": {
  "kernelspec": {
   "display_name": "Python 3",
   "language": "python",
   "name": "python3"
  },
  "language_info": {
   "codemirror_mode": {
    "name": "ipython",
    "version": 3
   },
   "file_extension": ".py",
   "mimetype": "text/x-python",
   "name": "python",
   "nbconvert_exporter": "python",
   "pygments_lexer": "ipython3",
   "version": "3.7.3"
  }
 },
 "nbformat": 4,
 "nbformat_minor": 2
}
