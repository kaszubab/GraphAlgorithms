{
 "cells": [
  {
   "cell_type": "code",
   "execution_count": 235,
   "metadata": {},
   "outputs": [],
   "source": [
    "import FordFulkerson\n",
    "import dimacs \n",
    "import copy\n",
    "\n",
    "def bfs(graph,s,t,parentTab):\n",
    "    visited = [False for x in range(len(graph))]\n",
    "    queue = []\n",
    "    queue.append(s)\n",
    "    while (queue):\n",
    "        vertex = queue.pop(0)\n",
    "        for x in graph[vertex]:\n",
    "            if not visited[x[0]] and x[1] > 0:\n",
    "                queue.append(x[0])\n",
    "                visited[x[0]]=True\n",
    "                parentTab[x[0]]=vertex\n",
    "    #print (visited)\n",
    "    return visited[t]\n",
    "\n",
    "\n",
    "def fordFulkerson(flowNetwork,output):\n",
    "    residualNetwork = flowNetwork\n",
    "    #print(residualNetwork) \n",
    "    parentTab = [-1 for x in range(len(residualNetwork))]\n",
    "    maxflow = 0\n",
    "    while bfs(residualNetwork,0,output,parentTab) :\n",
    "        flowSurplus = float(\"Inf\")\n",
    "        x = output\n",
    "        while not x == 0 :\n",
    "            currFlow = 0\n",
    "            for y in residualNetwork[parentTab[x]] :\n",
    "                if y[0] == x:\n",
    "                    currFlow = y[1]\n",
    "            flowSurplus = min(flowSurplus,currFlow)\n",
    "            x = parentTab[x]\n",
    "        maxflow += flowSurplus\n",
    "        #print(output,maxflow)\n",
    "        x = output\n",
    "        while not x == 0 :\n",
    "            z = residualNetwork[parentTab[x]]\n",
    "            for y in range(len(z)) :\n",
    "                if z[y][0] == x:\n",
    "                    newFlow = z[y][1] - flowSurplus\n",
    "                    z[y] = (z[y][0],newFlow)\n",
    "            z = residualNetwork[x]\n",
    "            for y in range(len(z)) :\n",
    "                if z[y][0] == parentTab[x]:\n",
    "                    z[y] = (z[y][0],z[y][1] + flowSurplus)\n",
    "            x = parentTab[x]\n",
    "    return maxflow\n",
    "\n"
   ]
  },
  {
   "cell_type": "code",
   "execution_count": 242,
   "metadata": {},
   "outputs": [],
   "source": [
    "def directGraph(name):\n",
    "    graph = dimacs.loadWeightedGraph(name)\n",
    "    myGraph = [[] for x in range(graph[0])]\n",
    "    for  x in graph[1] :\n",
    "        myGraph[x[0]-1].append([x[1]-1,x[2]])\n",
    "        myGraph[x[1]-1].append([x[0]-1,x[2]])\n",
    "    return myGraph\n",
    "\n",
    "def checkConnectivity(file_name):\n",
    "    flowNetwork = directGraph(file_name)\n",
    "    return min([fordFulkerson(copy.deepcopy(flowNetwork),i) for i in range(1,len(flowNetwork)-1)] )\n",
    "    "
   ]
  },
  {
   "cell_type": "code",
   "execution_count": 243,
   "metadata": {},
   "outputs": [],
   "source": [
    "def test(file_name):\n",
    "    print(checkConnectivity(file_name))\n",
    "    print(open(file_name).readline().split()[3])"
   ]
  },
  {
   "cell_type": "code",
   "execution_count": 1,
   "metadata": {},
   "outputs": [
    {
     "ename": "NameError",
     "evalue": "name 'test' is not defined",
     "output_type": "error",
     "traceback": [
      "\u001b[1;31m---------------------------------------------------------------------------\u001b[0m",
      "\u001b[1;31mNameError\u001b[0m                                 Traceback (most recent call last)",
      "\u001b[1;32m<ipython-input-1-fb7d03fd57b2>\u001b[0m in \u001b[0;36m<module>\u001b[1;34m\u001b[0m\n\u001b[1;32m----> 1\u001b[1;33m \u001b[0mtest\u001b[0m\u001b[1;33m(\u001b[0m\u001b[1;34m\"connectivity/simple\"\u001b[0m\u001b[1;33m)\u001b[0m\u001b[1;33m\u001b[0m\u001b[1;33m\u001b[0m\u001b[0m\n\u001b[0m\u001b[0;32m      2\u001b[0m \u001b[0mprint\u001b[0m\u001b[1;33m(\u001b[0m\u001b[1;33m)\u001b[0m\u001b[1;33m\u001b[0m\u001b[1;33m\u001b[0m\u001b[0m\n\u001b[0;32m      3\u001b[0m \u001b[0mtest\u001b[0m\u001b[1;33m(\u001b[0m\u001b[1;34m\"connectivity/clique5\"\u001b[0m\u001b[1;33m)\u001b[0m\u001b[1;33m\u001b[0m\u001b[1;33m\u001b[0m\u001b[0m\n\u001b[0;32m      4\u001b[0m \u001b[0mprint\u001b[0m\u001b[1;33m(\u001b[0m\u001b[1;33m)\u001b[0m\u001b[1;33m\u001b[0m\u001b[1;33m\u001b[0m\u001b[0m\n\u001b[0;32m      5\u001b[0m \u001b[1;31m#test(\"connectivity/clique100\")\u001b[0m\u001b[1;33m\u001b[0m\u001b[1;33m\u001b[0m\u001b[1;33m\u001b[0m\u001b[0m\n",
      "\u001b[1;31mNameError\u001b[0m: name 'test' is not defined"
     ]
    }
   ],
   "source": [
    "test(\"connectivity/simple\")\n",
    "print()\n",
    "test(\"connectivity/clique5\")\n",
    "print()\n",
    "#test(\"connectivity/clique100\")\n",
    "print()\n",
    "#test(\"connectivity/clique200\")\n",
    "print()\n",
    "test(\"connectivity/cycle\")\n",
    "print()\n",
    "test(\"connectivity/grid5x5\")\n",
    "print()\n",
    "test(\"connectivity/path\")\n",
    "print()\n",
    "test(\"connectivity/rand100_500\")\n",
    "print()\n",
    "test(\"connectivity/simple\")"
   ]
  },
  {
   "cell_type": "code",
   "execution_count": null,
   "metadata": {},
   "outputs": [],
   "source": []
  },
  {
   "cell_type": "code",
   "execution_count": null,
   "metadata": {},
   "outputs": [],
   "source": []
  }
 ],
 "metadata": {
  "kernelspec": {
   "display_name": "Python 3",
   "language": "python",
   "name": "python3"
  },
  "language_info": {
   "codemirror_mode": {
    "name": "ipython",
    "version": 3
   },
   "file_extension": ".py",
   "mimetype": "text/x-python",
   "name": "python",
   "nbconvert_exporter": "python",
   "pygments_lexer": "ipython3",
   "version": "3.7.3"
  }
 },
 "nbformat": 4,
 "nbformat_minor": 2
}
