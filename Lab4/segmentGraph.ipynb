{
 "cells": [
  {
   "cell_type": "code",
   "execution_count": 1,
   "metadata": {},
   "outputs": [],
   "source": [
    "import dimacs\n",
    "\n",
    "class Node:\n",
    "    def __init__(self, idx):\n",
    "        self.idx = idx\n",
    "        self.out = set()              # zbiór sąsiadów\n",
    "\n",
    "    def connect_to(self, v):\n",
    "        self.out.add(v)\n",
    "                \n",
    "        \n",
    "def loadGraph(fileName):\n",
    "    fileContent = dimacs.loadWeightedGraph(fileName)\n",
    "    G = [Node(i) for i in range(fileContent[0])] \n",
    "    for (u, v, _) in fileContent[1]:\n",
    "        G[u-1].connect_to(v-1)\n",
    "        G[v-1].connect_to(u-1)\n",
    "    return G"
   ]
  },
  {
   "cell_type": "code",
   "execution_count": 36,
   "metadata": {},
   "outputs": [],
   "source": [
    "def LexBFS(visited, graph):\n",
    "    vertices = []\n",
    "    \n",
    "    vertices = [x.idx for x in graph]\n",
    "    parents = [-1 for x in graph]\n",
    "    predecessors = [set() for x in graph]\n",
    "    listOfSets = [set(vertices)]\n",
    "    \n",
    "    \n",
    "    ordering = []\n",
    "    \n",
    "    \n",
    "    while listOfSets:\n",
    "        while listOfSets and len(listOfSets[-1]) == 0 :\n",
    "            listOfSets.pop()\n",
    "            \n",
    "        if len(listOfSets) == 0 : break\n",
    "            \n",
    "        vertex = listOfSets[-1].pop()\n",
    "        \n",
    "        ordering.append(vertex)\n",
    "        newList = []\n",
    "        for x in listOfSets:\n",
    "            notNeighbours  = x - graph[vertex].out\n",
    "            Neighbours = x & graph[vertex].out\n",
    "            for y in Neighbours:\n",
    "                parents[y] = vertex\n",
    "                predecessors[y].add(vertex)\n",
    "            newList.append(notNeighbours)\n",
    "            newList.append(Neighbours)\n",
    "        listOfSets = newList.copy()\n",
    "        \n",
    "    return ordering,parents, predecessors"
   ]
  },
  {
   "cell_type": "code",
   "execution_count": 106,
   "metadata": {},
   "outputs": [
    {
     "name": "stdout",
     "output_type": "stream",
     "text": [
      "[0, 1, 2, 4, 3, 5]\n",
      "[-1, 0, 1, 2, 1, 3]\n",
      "[set(), {0}, {0, 1}, {1, 2}, {0, 1}, {1, 2, 3}]\n"
     ]
    }
   ],
   "source": [
    "graph = loadGraph('chordal\\interval-rnd6')\n",
    "ordering,parents,predecessors = LexBFS(5,graph)\n",
    "print(ordering)\n",
    "print(parents)\n",
    "print(predecessors)"
   ]
  },
  {
   "cell_type": "code",
   "execution_count": 107,
   "metadata": {},
   "outputs": [],
   "source": [
    "class SpanningNode:\n",
    "    def __init__(self,vertexId):\n",
    "        self.id = vertexId\n",
    "        self.childList = []\n",
    "\n",
    "class SpanningTree:\n",
    "    def __init__(self,root):\n",
    "        self.root = root\n",
    "        \n",
    "    def __findNodeRecur__(self,vertex, parent):\n",
    "        if (vertex.id == parent):\n",
    "            return vertex\n",
    "        if vertex.childList == []:\n",
    "            return None\n",
    "        for x in vertex.childList:\n",
    "            node = self.__findNodeRecur__(x,parent)\n",
    "            if not node is None:\n",
    "                return node\n",
    "        \n",
    "    def findNode(self,id):\n",
    "        return self.__findNodeRecur__(self.root, id)\n",
    "    \n",
    "\n",
    "    def insertNode(self,id,node):\n",
    "        child = SpanningNode(id)\n",
    "        node.childList.append(child)\n",
    "       \n"
   ]
  },
  {
   "cell_type": "code",
   "execution_count": 108,
   "metadata": {},
   "outputs": [],
   "source": [
    "order = ordering.copy()\n",
    "tree = SpanningTree(SpanningNode(order.pop(0)))\n",
    "\n",
    "for x in order:\n",
    "    tree.insertNode(x, tree.findNode(parents[x]))\n",
    "    \n"
   ]
  },
  {
   "cell_type": "code",
   "execution_count": 109,
   "metadata": {},
   "outputs": [],
   "source": [
    "Cliques = [[[],-1] for x in graph]\n",
    "cliqueofVertex = [x for x in range(len(graph))]\n",
    "\n",
    "def buildCliques(id, cliques, predecessors, cliqueofVertex):\n",
    "    if (list(predecessors[id]) == cliques[cliqueofVertex[parents[id]]][0]):\n",
    "        cliques[cliqueofVertex[parents[id]]][0].append(id)\n",
    "        cliqueofVertex[id] = cliqueofVertex[parents[id]]\n",
    "    else :\n",
    "        Cliques[cliqueofVertex[id]][0] = list(predecessors[id]) + [id]\n",
    "        Cliques[cliqueofVertex[id]][1] = parents[id]\n",
    "        "
   ]
  },
  {
   "cell_type": "code",
   "execution_count": 110,
   "metadata": {},
   "outputs": [],
   "source": [
    "def cliquesPreorder(node, cliques,predecessors,cliqueOfVertex,ordering):\n",
    "    if node == tree.root:\n",
    "        cliques[cliqueOfVertex[node.id]][0].append(node.id)\n",
    "    buildCliques(node.id, cliques, predecessors, cliqueOfVertex)\n",
    "    for x in ordering:\n",
    "        for y in node.childList:\n",
    "            if (x == y.id):\n",
    "                cliquesPreorder(y, cliques,predecessors,cliqueOfVertex,ordering)\n",
    "        "
   ]
  },
  {
   "cell_type": "code",
   "execution_count": 111,
   "metadata": {},
   "outputs": [
    {
     "name": "stdout",
     "output_type": "stream",
     "text": [
      "[[[0], -1], [[], -1], [[], -1], [[1, 2, 3, 5], 2], [[0, 1, 4], 1], [[0, 1, 2], -1]]\n",
      "[5, 5, 5, 3, 4, 3]\n"
     ]
    }
   ],
   "source": [
    "cliquesPreorder(tree.root, Cliques, predecessors, cliqueofVertex, ordering)\n",
    "\n",
    "print(Cliques)\n",
    "print(cliqueofVertex)\n"
   ]
  },
  {
   "cell_type": "code",
   "execution_count": null,
   "metadata": {},
   "outputs": [],
   "source": []
  }
 ],
 "metadata": {
  "kernelspec": {
   "display_name": "Python 3",
   "language": "python",
   "name": "python3"
  },
  "language_info": {
   "codemirror_mode": {
    "name": "ipython",
    "version": 3
   },
   "file_extension": ".py",
   "mimetype": "text/x-python",
   "name": "python",
   "nbconvert_exporter": "python",
   "pygments_lexer": "ipython3",
   "version": "3.7.3"
  }
 },
 "nbformat": 4,
 "nbformat_minor": 2
}
