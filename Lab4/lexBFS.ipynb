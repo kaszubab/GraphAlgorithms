{
 "cells": [
  {
   "cell_type": "code",
   "execution_count": 1,
   "metadata": {},
   "outputs": [],
   "source": [
    "import dimacs\n",
    "\n",
    "class Node:\n",
    "    def __init__(self, idx):\n",
    "        self.idx = idx\n",
    "        self.out = set()              # zbiór sąsiadów\n",
    "\n",
    "    def connect_to(self, v):\n",
    "        self.out.add(v)\n",
    "                \n",
    "        \n",
    "def loadGraph(fileName):\n",
    "    fileContent = dimacs.loadWeightedGraph(fileName)\n",
    "    G = [Node(i) for i in range(fileContent[0])] \n",
    "    for (u, v, _) in fileContent[1]:\n",
    "        G[u-1].connect_to(v-1)\n",
    "        G[v-1].connect_to(u-1)\n",
    "    return G\n"
   ]
  },
  {
   "cell_type": "code",
   "execution_count": 2,
   "metadata": {},
   "outputs": [],
   "source": [
    "def LexBFS(visited, graph):\n",
    "    vertices = []\n",
    "    \n",
    "    vertices = [x.idx for x in graph]\n",
    "    listOfSets = [set(vertices)]\n",
    "    \n",
    "    \n",
    "    ordering = []\n",
    "    while listOfSets:\n",
    "        while listOfSets and len(listOfSets[-1]) == 0 :\n",
    "            listOfSets.pop()\n",
    "        if len(listOfSets) == 0 : break\n",
    "        vertex = listOfSets[-1].pop()\n",
    "        ordering.append(vertex)\n",
    "        newList = []\n",
    "        for x in listOfSets:\n",
    "            notNeighbours  = x - graph[vertex].out\n",
    "            Neighbours = x & graph[vertex].out\n",
    "            newList.append(notNeighbours)\n",
    "            newList.append(Neighbours)\n",
    "        listOfSets = newList.copy()\n",
    "        \n",
    "    return ordering"
   ]
  },
  {
   "cell_type": "code",
   "execution_count": 3,
   "metadata": {},
   "outputs": [],
   "source": [
    "def checkLexBFS(G, vs):\n",
    "    n = len(G)\n",
    "    pi = [None] * n\n",
    "    for i, v in enumerate(vs):\n",
    "        pi[v] = i\n",
    "\n",
    "    for i in range(n-1):\n",
    "        for j in range(i+1, n-1):\n",
    "            Ni = G[vs[i]].out\n",
    "            Nj = G[vs[j]].out\n",
    "\n",
    "            verts = [pi[v] for v in Nj - Ni if pi[v] < i]\n",
    "            if verts:\n",
    "                viable = [pi[v] for v in Ni - Nj]\n",
    "                if not viable or min(verts) <= min(viable):\n",
    "                    return False\n",
    "    return True\n"
   ]
  },
  {
   "cell_type": "code",
   "execution_count": 5,
   "metadata": {},
   "outputs": [
    {
     "name": "stdout",
     "output_type": "stream",
     "text": [
      "[0, 1, 2, 3, 5, 4]\n",
      "True\n",
      "[0, 1, 2, 3]\n",
      "True\n",
      "[0, 1, 2, 3, 4]\n",
      "True\n",
      "[0, 1, 2, 3, 4, 5, 6, 7, 8, 9, 10, 11, 12, 13, 14, 15, 16, 17, 18, 19]\n",
      "True\n",
      "[0, 1, 2]\n",
      "True\n",
      "[0, 1, 3, 2]\n",
      "True\n",
      "[0, 1, 5, 2, 4, 3]\n",
      "True\n"
     ]
    }
   ],
   "source": [
    "fileName= '''AT\n",
    "clique4\n",
    "clique5\n",
    "clique20\n",
    "cycle3\n",
    "cycle4\n",
    "cycle6'''\n",
    "files = fileName.split('\\n')\n",
    "for x in files:\n",
    "    graph = loadGraph('chordal\\\\'+x)\n",
    "    ordering = LexBFS(5,graph)\n",
    "    print(checkLexBFS(graph,ordering))"
   ]
  },
  {
   "cell_type": "code",
   "execution_count": 6,
   "metadata": {},
   "outputs": [
    {
     "ename": "SyntaxError",
     "evalue": "invalid syntax (<ipython-input-6-4e3cebdccd27>, line 1)",
     "output_type": "error",
     "traceback": [
      "\u001b[1;36m  File \u001b[1;32m\"<ipython-input-6-4e3cebdccd27>\"\u001b[1;36m, line \u001b[1;32m1\u001b[0m\n\u001b[1;33m    checkChordalGraph(graph,ordering):\u001b[0m\n\u001b[1;37m                                      ^\u001b[0m\n\u001b[1;31mSyntaxError\u001b[0m\u001b[1;31m:\u001b[0m invalid syntax\n"
     ]
    }
   ],
   "source": [
    "checkChordalGraph(graph,ordering):\n",
    "    for id,x in enumerate(ordering):\n",
    "        neighbours = set()\n",
    "        parent = None\n",
    "        for y in ordering[:id]\n",
    "            if y in graph[x].out :\n",
    "                neighbours.add(y)\n",
    "                parent = y\n",
    "        if neighbours:\n",
    "            neighboursofParent = []\n",
    "            parentId = ordering.index(parent)\n",
    "            for y in ordering[:parentId]:\n",
    "                neighboursofParent = \n",
    "        for y in ordering[id:]:\n",
    "            if y in graph[x].out:\n",
    "                parent = y\n",
    "\n",
    "    \n",
    "        \n",
    "        \n",
    "    "
   ]
  },
  {
   "cell_type": "code",
   "execution_count": null,
   "metadata": {},
   "outputs": [],
   "source": []
  }
 ],
 "metadata": {
  "kernelspec": {
   "display_name": "Python 3",
   "language": "python",
   "name": "python3"
  },
  "language_info": {
   "codemirror_mode": {
    "name": "ipython",
    "version": 3
   },
   "file_extension": ".py",
   "mimetype": "text/x-python",
   "name": "python",
   "nbconvert_exporter": "python",
   "pygments_lexer": "ipython3",
   "version": "3.7.3"
  }
 },
 "nbformat": 4,
 "nbformat_minor": 2
}
