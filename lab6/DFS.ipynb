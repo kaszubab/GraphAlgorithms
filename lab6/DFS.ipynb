{
 "cells": [
  {
   "cell_type": "code",
   "execution_count": 66,
   "metadata": {},
   "outputs": [],
   "source": [
    "import dimacs\n",
    "\n",
    "def loadGraph(fileName):\n",
    "    rawGraph = dimacs.loadWeightedGraph(fileName)\n",
    "    graph = [[] for x in range (rawGraph[0])]\n",
    "    for (x,y,z) in rawGraph[1]:\n",
    "        graph[x-1].append(y-1)\n",
    "        graph[y-1].append(x-1)\n",
    "    return graph"
   ]
  },
  {
   "cell_type": "code",
   "execution_count": 120,
   "metadata": {},
   "outputs": [],
   "source": [
    "def dfsWithLow(graph, parents, visited, low, vertex, step):\n",
    "    visited[vertex] = step\n",
    "    for x in graph[vertex] :\n",
    "        if visited[x] == -1 :\n",
    "            parents[x] = vertex\n",
    "            dfsWithLow(graph, parents, visited,low, x, step+1)\n",
    "            low[vertex] = min(low[vertex],step, low[x])\n",
    "        elif x != parents[vertex] :\n",
    "            low[vertex] = min(low[vertex], step, visited[x])\n",
    "    "
   ]
  },
  {
   "cell_type": "code",
   "execution_count": 125,
   "metadata": {},
   "outputs": [],
   "source": [
    "def articulationPoints(graph):\n",
    "    parents = [-1 for x in graph]\n",
    "    visited = [-1 for x in graph]\n",
    "    low = [len(graph) for x in graph]\n",
    "    dfsWithLow(graph, parents, visited, low,  0, 0)\n",
    "\n",
    "    \n",
    "    articulationSet = set()\n",
    "    if len([1 for x in range(len(graph)) if parents[x]==0]) > 1:\n",
    "        articulationSet.add(0+1)\n",
    "        \n",
    "    for x in range(1,len(graph)):\n",
    "        if parents[x] != 0 and visited[parents[x]] <= low[x]:\n",
    "            articulationSet.add(parents[x]+1)\n",
    "    \n",
    "    return articulationSet\n",
    "\n"
   ]
  },
  {
   "cell_type": "code",
   "execution_count": 128,
   "metadata": {},
   "outputs": [],
   "source": [
    "def bridges(graph):\n",
    "    parents = [-1 for x in graph]\n",
    "    visited = [-1 for x in graph]\n",
    "    low = [len(graph) for x in graph]\n",
    "    dfsWithLow(graph, parents, visited, low,  0, 0)\n",
    "\n",
    "    bridgeSet = set()\n",
    "\n",
    "    \n",
    "    for x in range(1,len(graph)):\n",
    "        if visited[parents[x]] < low[x]:\n",
    "            bridgeSet.add((parents[x]+1, x+1))\n",
    "    \n",
    "    return bridgeSet\n"
   ]
  },
  {
   "cell_type": "code",
   "execution_count": 131,
   "metadata": {},
   "outputs": [],
   "source": [
    "class TTNode:\n",
    "    def __init__(self, idx, parent):\n",
    "        self.idx = idx            # indeks wierzcholka w kolejnosci DFS (nie jego nazwa w grafie!)\n",
    "        self.parent = parent      # rodzic wierzcholka (nazwa)\n",
    "        self.children = set()     # zbior nazw potomkow tego wierzcholka w drzewie DFS\n",
    "        self.back = set()         # zbior nazw wierzcholkow, do ktorych prowadza krawedzie wsteczne\n",
    "        self.out = []"
   ]
  },
  {
   "cell_type": "code",
   "execution_count": null,
   "metadata": {},
   "outputs": [],
   "source": [
    "def buildTreamauxTree(graph):\n",
    "    parents = [-1 for x in graph]\n",
    "    visited = [-1 for x in graph]\n",
    "    low = [len(graph) for x in graph]\n",
    "    dfsWithLow(graph, parents, visited, low,  0, 0)\n",
    "    \n",
    "    TremauxTree = []\n",
    "    \n",
    "    for x in range(len(graph)):\n",
    "        nodeT = TTNode(visited[x], parent[x])\n",
    "        for (x in children[]\n",
    "    \n",
    "    articulationSet = set()\n",
    "    if len([1 for x in range(len(graph)) if parents[x]==0]) > 1:\n",
    "        articulationSet.add(0+1)\n",
    "        \n",
    "    for x in range(1,len(graph)):\n",
    "        if parents[x] != 0 and visited[parents[x]] <= low[x]:\n",
    "            articulationSet.add(parents[x]+1)"
   ]
  },
  {
   "cell_type": "code",
   "execution_count": 129,
   "metadata": {},
   "outputs": [],
   "source": [
    "testList = [\"articulation/path\",\"articulation/16-cell\",\n",
    "           \"articulation/AT\",\"articulation/clique5\",\"articulation/clique20\"\n",
    "           ,\"articulation/clique4\", \"articulation/example1\",\n",
    "           \"articulation/example2\",\"articulation/example-fig5\",\n",
    "           \"articulation/grid5x5\"]\n",
    "\n",
    "for x in testList:\n",
    "    graph = loadGraph(x)\n",
    "    set1 = articulationPoints(graph)\n",
    "    set2 = eval(dimacs.readSolution(x))\n",
    "    if set1 != set2 :\n",
    "        print (x)\n",
    "        print (set1)\n",
    "        print (set2)\n"
   ]
  },
  {
   "cell_type": "code",
   "execution_count": 130,
   "metadata": {},
   "outputs": [
    {
     "name": "stdout",
     "output_type": "stream",
     "text": [
      "bridges/example-fig5\n",
      "{(1, 6), (8, 2)}\n",
      "{(2, 8), (1, 6)}\n"
     ]
    }
   ],
   "source": [
    "testList = [\"bridges/path\",\"bridges/16-cell\",\n",
    "           \"bridges/AT\",\"bridges/clique5\",\"bridges/clique20\"\n",
    "           , \"bridges/example1\",\n",
    "           \"bridges/example2\",\"bridges/example-fig5\",\n",
    "           \"bridges/grid5x5\"]\n",
    "\n",
    "for x in testList:\n",
    "    graph = loadGraph(x)\n",
    "    set1 = bridges(graph)\n",
    "    set2 = eval(dimacs.readSolution(x))\n",
    "    if set1 != set2 :\n",
    "        print (x)\n",
    "        print (set1)\n",
    "        print (set2)"
   ]
  },
  {
   "cell_type": "code",
   "execution_count": null,
   "metadata": {},
   "outputs": [],
   "source": []
  }
 ],
 "metadata": {
  "kernelspec": {
   "display_name": "Python 3",
   "language": "python",
   "name": "python3"
  },
  "language_info": {
   "codemirror_mode": {
    "name": "ipython",
    "version": 3
   },
   "file_extension": ".py",
   "mimetype": "text/x-python",
   "name": "python",
   "nbconvert_exporter": "python",
   "pygments_lexer": "ipython3",
   "version": "3.7.3"
  }
 },
 "nbformat": 4,
 "nbformat_minor": 2
}
