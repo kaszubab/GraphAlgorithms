{
 "cells": [
  {
   "cell_type": "code",
   "execution_count": 61,
   "metadata": {},
   "outputs": [],
   "source": [
    "import networkx as nx\n",
    "from networkx.algorithms.components import strongly_connected_components\n",
    "from networkx.algorithms.planarity import check_planarity"
   ]
  },
  {
   "cell_type": "code",
   "execution_count": 7,
   "metadata": {},
   "outputs": [],
   "source": [
    "\n",
    "G = nx.Graph()                   # stwórz pusty graf nieskierowany\n",
    "\n",
    "G.add_node(1)                    # dodaj wierzchołek 1 (wierzchołkami może być cokolwiek haszowalnego)\n",
    "G.add_nodes_from([2,3])          # dodaj wierzchołki z listy (dowolnego iterowalnego kontenera)\n"
   ]
  },
  {
   "cell_type": "code",
   "execution_count": null,
   "metadata": {},
   "outputs": [],
   "source": [
    "G.remove_node(1)                 # usuń wierchołek 1\n",
    "G.remove_nodes_from([2,3])       # usuń wierzchołki z listy\n"
   ]
  },
  {
   "cell_type": "code",
   "execution_count": 9,
   "metadata": {},
   "outputs": [],
   "source": [
    "\n",
    "G.add_edge(1,2)                  # dodaj krawędź między wierzchołkami 1 i 2\n",
    "G.add_edges_from([(1,3),(2,3)])  # dodaj krawędzie z listy (iterowalnego kontenera)\n"
   ]
  },
  {
   "cell_type": "code",
   "execution_count": null,
   "metadata": {},
   "outputs": [],
   "source": [
    "G.remove_edge(1,2)               # usuń krawędź \n",
    "G.remove_edges_from([(1,2),(1,3)])  # usuń krawędzie z listy (iterowalnego kontenera)\n"
   ]
  },
  {
   "cell_type": "code",
   "execution_count": 10,
   "metadata": {},
   "outputs": [
    {
     "name": "stdout",
     "output_type": "stream",
     "text": [
      "3\n",
      "3\n",
      "[1, 2, 3]\n",
      "[(1, 2), (1, 3), (2, 3)]\n"
     ]
    }
   ],
   "source": [
    "# odczytywanie podstawowych informacji o grafie\n",
    "print (G.number_of_nodes())              # liczba wierzchołkóœ\n",
    "print (G.number_of_edges())              # liczba krawędzi\n",
    "print  (G.nodes)                          # wierzchołki grafu\n",
    "print (G.edges)                          # krawędzie grafu\n"
   ]
  },
  {
   "cell_type": "code",
   "execution_count": 11,
   "metadata": {},
   "outputs": [
    {
     "name": "stdout",
     "output_type": "stream",
     "text": [
      "{2: {}, 3: {}}\n",
      "{2: {}, 3: {}}\n"
     ]
    }
   ],
   "source": [
    "print (G.adj[1])                         # sąsiedzi wierzchołka 1\n",
    "print (G[1])                             # sąsiedzi wierzchołka 1\n"
   ]
  },
  {
   "cell_type": "code",
   "execution_count": 13,
   "metadata": {},
   "outputs": [
    {
     "name": "stdout",
     "output_type": "stream",
     "text": [
      "{}\n",
      "True\n"
     ]
    },
    {
     "data": {
      "text/plain": [
       "True"
      ]
     },
     "execution_count": 13,
     "metadata": {},
     "output_type": "execute_result"
    }
   ],
   "source": [
    "print (G[1][2])                          # dostęp do krawędzi {1,2} (można jej dodawać atrybuty)\n",
    "print (G.has_node(1))                    # czy istnieje wierzchołek 1?\n",
    "G.has_edge(1,2)  "
   ]
  },
  {
   "cell_type": "code",
   "execution_count": 15,
   "metadata": {},
   "outputs": [
    {
     "data": {
      "text/plain": [
       "(True, <networkx.algorithms.planarity.PlanarEmbedding at 0x1f1c0732390>)"
      ]
     },
     "execution_count": 15,
     "metadata": {},
     "output_type": "execute_result"
    }
   ],
   "source": [
    "\n",
    "\n",
    "check_planarity(G)    # czy graf jest planarny? zwraca parę, której pierwszy element to odpowiedź"
   ]
  },
  {
   "cell_type": "code",
   "execution_count": 18,
   "metadata": {},
   "outputs": [],
   "source": [
    "from dimacs import *"
   ]
  },
  {
   "cell_type": "code",
   "execution_count": 21,
   "metadata": {},
   "outputs": [],
   "source": [
    "(V,L) = loadWeightedGraph('plnar/clique4')"
   ]
  },
  {
   "cell_type": "code",
   "execution_count": 34,
   "metadata": {},
   "outputs": [],
   "source": [
    "def isPlanar(name):\n",
    "    (V,L) = loadWeightedGraph('plnar/'+name)\n",
    "    Plgraph1 = nx.Graph()\n",
    "    Plgraph1.add_nodes_from([ (x+1) for x in range (V)])\n",
    "    Plgraph1.add_edges_from([ (x,y) for (x,y,z) in L])\n",
    "    return check_planarity(G)"
   ]
  },
  {
   "cell_type": "code",
   "execution_count": 37,
   "metadata": {},
   "outputs": [
    {
     "name": "stdout",
     "output_type": "stream",
     "text": [
      "(True, <networkx.algorithms.planarity.PlanarEmbedding object at 0x000001F1C5827908>)\n",
      "(True, <networkx.algorithms.planarity.PlanarEmbedding object at 0x000001F1C5603128>)\n"
     ]
    }
   ],
   "source": [
    "print(isPlanar(\"clique4\"))\n",
    "print(isPlanar(\"nonplanar-ex1\"))"
   ]
  },
  {
   "cell_type": "code",
   "execution_count": 48,
   "metadata": {},
   "outputs": [],
   "source": [
    "def maxFlow(name):\n",
    "    (V,L) = loadDirectedWeightedGraph('flow/'+name)\n",
    "    Plgraph1 = nx.DiGraph()\n",
    "    Plgraph1.add_nodes_from([ (x+1) for x in range (V)])\n",
    "    Plgraph1.add_edges_from([ (x,y) for (x,y,z) in L])\n",
    "    for (x,y,z) in L:\n",
    "        Plgraph1[x][y]['capacity'] = z \n",
    "    return maximum_flow( Plgraph1, 1, V) "
   ]
  },
  {
   "cell_type": "code",
   "execution_count": 50,
   "metadata": {},
   "outputs": [
    {
     "name": "stdout",
     "output_type": "stream",
     "text": [
      "(3, {1: {2: 3}, 2: {3: 3}, 3: {4: 3}, 4: {5: 3}, 5: {}})\n",
      "(20, {1: {2: 10, 3: 10}, 2: {4: 10, 3: 0}, 3: {4: 10}, 4: {}})\n"
     ]
    }
   ],
   "source": [
    "print (maxFlow(\"trivial\"))\n",
    "print (maxFlow(\"worstcase\"))"
   ]
  },
  {
   "cell_type": "code",
   "execution_count": 45,
   "metadata": {},
   "outputs": [
    {
     "name": "stdout",
     "output_type": "stream",
     "text": [
      "[(1, 2), (2, 3), (3, 4), (4, 5)]\n"
     ]
    }
   ],
   "source": [
    "print (Plgraph1.edges)"
   ]
  },
  {
   "cell_type": "code",
   "execution_count": 97,
   "metadata": {},
   "outputs": [
    {
     "name": "stdout",
     "output_type": "stream",
     "text": [
      "['c', 'solution=1']\n",
      "<generator object topological_sort at 0x000001F1C5C51840>\n"
     ]
    },
    {
     "ename": "TypeError",
     "evalue": "'int' object is not iterable",
     "output_type": "error",
     "traceback": [
      "\u001b[1;31m---------------------------------------------------------------------------\u001b[0m",
      "\u001b[1;31mTypeError\u001b[0m                                 Traceback (most recent call last)",
      "\u001b[1;32m<ipython-input-97-de769e416727>\u001b[0m in \u001b[0;36m<module>\u001b[1;34m\u001b[0m\n\u001b[0;32m     37\u001b[0m \u001b[1;31m# wypisz wierzchołki w kolejności topologicznej (krawędzie tylko \"z lewej na prawą\")\u001b[0m\u001b[1;33m\u001b[0m\u001b[1;33m\u001b[0m\u001b[1;33m\u001b[0m\u001b[0m\n\u001b[0;32m     38\u001b[0m \u001b[1;32mfor\u001b[0m \u001b[0mv\u001b[0m \u001b[1;32min\u001b[0m \u001b[0mO\u001b[0m\u001b[1;33m:\u001b[0m\u001b[1;33m\u001b[0m\u001b[1;33m\u001b[0m\u001b[0m\n\u001b[1;32m---> 39\u001b[1;33m     \u001b[1;32mfor\u001b[0m \u001b[0mx\u001b[0m \u001b[1;32min\u001b[0m \u001b[0mv\u001b[0m\u001b[1;33m:\u001b[0m\u001b[1;33m\u001b[0m\u001b[1;33m\u001b[0m\u001b[0m\n\u001b[0m\u001b[0;32m     40\u001b[0m         \u001b[1;32mif\u001b[0m \u001b[0mgraphValuing\u001b[0m\u001b[1;33m[\u001b[0m\u001b[0mx\u001b[0m\u001b[1;33m]\u001b[0m \u001b[1;33m!=\u001b[0m \u001b[1;32mTrue\u001b[0m\u001b[1;33m:\u001b[0m\u001b[1;33m\u001b[0m\u001b[1;33m\u001b[0m\u001b[0m\n\u001b[0;32m     41\u001b[0m             \u001b[0mgraphValuing\u001b[0m\u001b[1;33m[\u001b[0m\u001b[0mv\u001b[0m\u001b[1;33m]\u001b[0m \u001b[1;33m=\u001b[0m \u001b[1;32mFalse\u001b[0m\u001b[1;33m\u001b[0m\u001b[1;33m\u001b[0m\u001b[0m\n",
      "\u001b[1;31mTypeError\u001b[0m: 'int' object is not iterable"
     ]
    }
   ],
   "source": [
    "(V,F) = loadCNFFormula( \"sat/simple_sat\" )\n",
    "\n",
    "CNFgraph = nx.DiGraph()\n",
    "CNFgraph.add_nodes_from([ (x+1) for x in range (V)])\n",
    "CNFgraph.add_nodes_from([ -(x+1) for x in range (V)])\n",
    "clist = [ (-x,y) for (x,y) in F]\n",
    "clist = clist + [ (-y,x) for (x,y) in F]\n",
    "\n",
    "CNFgraph.add_edges_from(clist)\n",
    "SCC = strongly_connected_components(CNFgraph)\n",
    "\n",
    "SCClist = []\n",
    "for S in SCC:\n",
    "    SCClist.append(S)\n",
    "    for i in S:\n",
    "        if -i in S:\n",
    "            print(False)\n",
    "            \n",
    "Hgraph = nx.DiGraph()\n",
    "Hgraph.add_nodes_from([ x for x in range (len(SCClist))])\n",
    "\n",
    "vertexToScc = {}\n",
    "\n",
    "for idx,x in enumerate(SCClist):\n",
    "    for i in x:\n",
    "        vertexToScc[i] = idx\n",
    "        \n",
    "for (x,y) in CNFgraph.edges:\n",
    "    if (vertexToScc[x] != vertexToScc[y]):\n",
    "        Hgraph.add_edge(x,y)\n",
    "\n",
    "from networkx.algorithms.dag import topological_sort\n",
    "\n",
    "O = topological_sort(Hgraph)          # posortuj topologicznie wierzchołki grafu skierowanego H\n",
    "\n",
    "graphValuing = {}\n",
    "# wypisz wierzchołki w kolejności topologicznej (krawędzie tylko \"z lewej na prawą\")\n",
    "for v in O:\n",
    "    for x in v:\n",
    "        if graphValuing[x] != True:\n",
    "            graphValuing[v] = False\n",
    "            graphValuing[-v] = True\n",
    "    \n",
    "      \n"
   ]
  },
  {
   "cell_type": "code",
   "execution_count": null,
   "metadata": {},
   "outputs": [],
   "source": []
  },
  {
   "cell_type": "code",
   "execution_count": null,
   "metadata": {},
   "outputs": [],
   "source": []
  }
 ],
 "metadata": {
  "kernelspec": {
   "display_name": "Python 3",
   "language": "python",
   "name": "python3"
  },
  "language_info": {
   "codemirror_mode": {
    "name": "ipython",
    "version": 3
   },
   "file_extension": ".py",
   "mimetype": "text/x-python",
   "name": "python",
   "nbconvert_exporter": "python",
   "pygments_lexer": "ipython3",
   "version": "3.7.3"
  }
 },
 "nbformat": 4,
 "nbformat_minor": 2
}
